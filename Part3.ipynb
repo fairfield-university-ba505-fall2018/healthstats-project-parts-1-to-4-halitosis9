{
 "cells": [
  {
   "cell_type": "markdown",
   "metadata": {},
   "source": [
    "# Health Stats Part 3: Numpy Structured Arrays"
   ]
  },
  {
   "cell_type": "markdown",
   "metadata": {},
   "source": [
    "<!--- Paste in your explanation from part 1.  --->\n",
    "The Waist to Hips Ratio statistic is a measure used by health professionals as a possible indicator of health problems. To get this ratio, measure the narrowest point of the midsection and divide it by the measurement for the widest point around the hips and buttock region. Ratios that are high (over the .9 range for men or the .7 range for women) can mean that a person has weak fertility and are at higher risk for other health problems, but those who lie within the aforementioned range are generally considered to be very healthy."
   ]
  },
  {
   "cell_type": "markdown",
   "metadata": {},
   "source": [
    "## Source Data "
   ]
  },
  {
   "cell_type": "markdown",
   "metadata": {},
   "source": [
    "<!--- Paste in your column definition table from part 2. --->\n",
    "* ID\n",
    "* Hip\n",
    "* Waist\n",
    "* Gender"
   ]
  },
  {
   "cell_type": "markdown",
   "metadata": {},
   "source": [
    "## Data Import"
   ]
  },
  {
   "cell_type": "code",
   "execution_count": 29,
   "metadata": {
    "collapsed": true
   },
   "outputs": [
    {
     "name": "stdout",
     "output_type": "stream",
     "text": [
      "[( 1, 30., 32., 'M') ( 2, 32., 37., 'M') ( 3, 30., 36., 'M')\n",
      " ( 4, 33., 39., 'M') ( 5, 29., 33., 'M') ( 6, 32., 38., 'M')\n",
      " ( 7, 33., 42., 'M') ( 8, 30., 40., 'M') ( 9, 30., 37., 'M')\n",
      " (10, 32., 39., 'M') (11, 24., 35., 'F') (12, 25., 37., 'F')\n",
      " (13, 24., 37., 'F') (14, 22., 34., 'F') (15, 26., 38., 'F')\n",
      " (16, 26., 37., 'F') (17, 25., 38., 'F') (18, 26., 37., 'F')\n",
      " (19, 28., 40., 'F') (20, 23., 35., 'F')]\n"
     ]
    }
   ],
   "source": [
    "# Goal: Extract the data from the file\n",
    "\n",
    "import numpy as np\n",
    "rows = np.genfromtxt('w2h_data.csv',delimiter=',',skip_header=1,dtype=[('ID','i8'),('Waist','f8'),('Hip','f8'),('Gender','U1')])\n",
    "print(rows)\n",
    "\n"
   ]
  },
  {
   "cell_type": "code",
   "execution_count": null,
   "metadata": {},
   "outputs": [],
   "source": []
  },
  {
   "cell_type": "markdown",
   "metadata": {},
   "source": [
    "## Calculations"
   ]
  },
  {
   "cell_type": "code",
   "execution_count": 48,
   "metadata": {},
   "outputs": [],
   "source": [
    "# Goal: For each row of data calculate and store the w2h_ratio and shape.\n",
    "\n",
    "w2h_ratios = rows['Waist']/rows['Hip']\n",
    "\n",
    "#calculations for male\n",
    "males = (rows['Gender']=='M')\n",
    "male_apples = np.logical_and((w2h_ratios>0.9),males)\n",
    "\n",
    "#calculation for female\n",
    "female_apples = np.logical_and((w2h_ratios>0.8),np.logical_not(males))\n",
    "\n",
    "#combine each for a complete list, define shapes\n",
    "apples=np.logical_or(male_apples,female_apples)\n",
    "shapes=np.where(apples,'Apple','Pear')\n",
    "\n",
    "#adding a new dtype for the array to include our new columns\n",
    "dt = np.dtype(rows.dtype.descr + [('W2H Ratio',float),('Shape','U5')])\n",
    "\n",
    "\n",
    "#results array that includes new dtype\n",
    "results = np.zeros(rows.shape,dtype=dt)\n"
   ]
  },
  {
   "cell_type": "code",
   "execution_count": 49,
   "metadata": {},
   "outputs": [
    {
     "data": {
      "text/html": [
       "<table><tr><th>ID</th><th>Waist</th><th>Hip</th><th>Gender</th><th>W2H Ratio</th><th>Shape</th></tr><tr><td>1</td><td>30.0</td><td>32.0</td><td>M</td></tr><tr><td>2</td><td>32.0</td><td>37.0</td><td>M</td></tr><tr><td>3</td><td>30.0</td><td>36.0</td><td>M</td></tr><tr><td>4</td><td>33.0</td><td>39.0</td><td>M</td></tr><tr><td>5</td><td>29.0</td><td>33.0</td><td>M</td></tr><tr><td>6</td><td>32.0</td><td>38.0</td><td>M</td></tr><tr><td>7</td><td>33.0</td><td>42.0</td><td>M</td></tr><tr><td>8</td><td>30.0</td><td>40.0</td><td>M</td></tr><tr><td>9</td><td>30.0</td><td>37.0</td><td>M</td></tr><tr><td>10</td><td>32.0</td><td>39.0</td><td>M</td></tr><tr><td>11</td><td>24.0</td><td>35.0</td><td>F</td></tr><tr><td>12</td><td>25.0</td><td>37.0</td><td>F</td></tr><tr><td>13</td><td>24.0</td><td>37.0</td><td>F</td></tr><tr><td>14</td><td>22.0</td><td>34.0</td><td>F</td></tr><tr><td>15</td><td>26.0</td><td>38.0</td><td>F</td></tr><tr><td>16</td><td>26.0</td><td>37.0</td><td>F</td></tr><tr><td>17</td><td>25.0</td><td>38.0</td><td>F</td></tr><tr><td>18</td><td>26.0</td><td>37.0</td><td>F</td></tr><tr><td>19</td><td>28.0</td><td>40.0</td><td>F</td></tr><tr><td>20</td><td>23.0</td><td>35.0</td><td>F</td></tr></table>"
      ],
      "text/plain": [
       "<IPython.core.display.HTML object>"
      ]
     },
     "metadata": {},
     "output_type": "display_data"
    }
   ],
   "source": [
    "# Goal: pretty print the rows as an HTML table\n",
    "\n",
    "# Note: this works, but we can do this much better with pandas\n",
    "html_table = '<table><tr><th>'\n",
    "html_table += \"</th><th>\".join(results.dtype.names)\n",
    "html_table += '</th></tr>'\n",
    "for row in rows:\n",
    "    html_table += \"<tr><td>\"\n",
    "    html_table += \"</td><td>\".join(str(v) for v in row)\n",
    "    html_table += \"</td></tr>\"\n",
    "html_table += \"</table>\"\n",
    "\n",
    "from IPython.display import HTML, display\n",
    "display(HTML(html_table))\n",
    "\n",
    "# Export\n",
    "np.savetxt(\"StatsResults.csv\",results,fmt='%s',delimiter=',',header=','.join(results.dtype.names),comments=\"\")"
   ]
  },
  {
   "cell_type": "code",
   "execution_count": null,
   "metadata": {},
   "outputs": [],
   "source": []
  }
 ],
 "metadata": {
  "kernelspec": {
   "display_name": "Python 3",
   "language": "python",
   "name": "python3"
  },
  "language_info": {
   "codemirror_mode": {
    "name": "ipython",
    "version": 3
   },
   "file_extension": ".py",
   "mimetype": "text/x-python",
   "name": "python",
   "nbconvert_exporter": "python",
   "pygments_lexer": "ipython3",
   "version": "3.6.5"
  }
 },
 "nbformat": 4,
 "nbformat_minor": 2
}
